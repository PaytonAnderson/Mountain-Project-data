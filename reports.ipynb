{
 "cells": [
  {
   "cell_type": "code",
   "execution_count": 10,
   "metadata": {},
   "outputs": [],
   "source": [
    "import re\n",
    "from collections import defaultdict\n",
    "from functools import reduce\n",
    "\n",
    "import requests\n",
    "from bs4 import BeautifulSoup"
   ]
  },
  {
   "cell_type": "code",
   "execution_count": 15,
   "metadata": {},
   "outputs": [],
   "source": [
    "SITEMAP_URL = 'https://www.mountainproject.com/sitemap.xml'\n",
    "\n",
    "def get_sitemap() -> str:\n",
    "    response = requests.get(SITEMAP_URL)\n",
    "    response.raise_for_status()\n",
    "    return response.text\n"
   ]
  },
  {
   "cell_type": "code",
   "execution_count": 14,
   "metadata": {},
   "outputs": [
    {
     "name": "stdout",
     "output_type": "stream",
     "text": [
      "defaultdict(<class 'int'>, {'sitemap-pages': 1, 'sitemap-areas': 74, 'sitemap-routes': 320, 'sitemap-trails': 5, 'sitemap-photos': 765, 'sitemap-gyms': 3, 'sitemap-forums': 11, 'sitemap-climbing-near-me': 40})\n",
      "sitemap-pages: 1\n",
      "sitemap-areas: 74\n",
      "sitemap-routes: 320\n",
      "sitemap-trails: 5\n",
      "sitemap-photos: 765\n",
      "sitemap-gyms: 3\n",
      "sitemap-forums: 11\n",
      "sitemap-climbing-near-me: 40\n"
     ]
    }
   ],
   "source": [
    "LOC_TAG = re.compile(r'<loc>.*?mountainproject.com/(.*)-\\d+.xml</loc>')\n",
    "\n",
    "def sitemap_report(sitemap_url: str) -> None:\n",
    "    response = requests.get(sitemap_url)\n",
    "    response.raise_for_status()\n",
    "\n",
    "    all_locs = LOC_TAG.findall(response.text)\n",
    "    qty_by_type = defaultdict(int)\n",
    "    for loc in all_locs:\n",
    "        qty_by_type[loc] += 1\n",
    "\n",
    "    print(qty_by_type)\n",
    "    for type, qty in qty_by_type.items():\n",
    "        print(f'{type}: {qty}')\n",
    "\n",
    "sitemap_report('https://www.mountainproject.com/sitemap.xml')\n"
   ]
  },
  {
   "cell_type": "code",
   "execution_count": null,
   "metadata": {},
   "outputs": [
    {
     "name": "stdout",
     "output_type": "stream",
     "text": [
      "['https://www.mountainproject.com/sitemap-routes-0.xml', 'https://www.mountainproject.com/sitemap-routes-1.xml', 'https://www.mountainproject.com/sitemap-routes-2.xml', 'https://www.mountainproject.com/sitemap-routes-3.xml', 'https://www.mountainproject.com/sitemap-routes-4.xml', 'https://www.mountainproject.com/sitemap-routes-5.xml', 'https://www.mountainproject.com/sitemap-routes-6.xml', 'https://www.mountainproject.com/sitemap-routes-7.xml', 'https://www.mountainproject.com/sitemap-routes-8.xml', 'https://www.mountainproject.com/sitemap-routes-9.xml', 'https://www.mountainproject.com/sitemap-routes-10.xml', 'https://www.mountainproject.com/sitemap-routes-11.xml', 'https://www.mountainproject.com/sitemap-routes-12.xml', 'https://www.mountainproject.com/sitemap-routes-13.xml', 'https://www.mountainproject.com/sitemap-routes-14.xml', 'https://www.mountainproject.com/sitemap-routes-15.xml', 'https://www.mountainproject.com/sitemap-routes-16.xml', 'https://www.mountainproject.com/sitemap-routes-17.xml', 'https://www.mountainproject.com/sitemap-routes-18.xml', 'https://www.mountainproject.com/sitemap-routes-19.xml', 'https://www.mountainproject.com/sitemap-routes-20.xml', 'https://www.mountainproject.com/sitemap-routes-21.xml', 'https://www.mountainproject.com/sitemap-routes-22.xml', 'https://www.mountainproject.com/sitemap-routes-23.xml', 'https://www.mountainproject.com/sitemap-routes-24.xml', 'https://www.mountainproject.com/sitemap-routes-25.xml', 'https://www.mountainproject.com/sitemap-routes-26.xml', 'https://www.mountainproject.com/sitemap-routes-27.xml', 'https://www.mountainproject.com/sitemap-routes-28.xml', 'https://www.mountainproject.com/sitemap-routes-29.xml', 'https://www.mountainproject.com/sitemap-routes-30.xml', 'https://www.mountainproject.com/sitemap-routes-31.xml', 'https://www.mountainproject.com/sitemap-routes-32.xml', 'https://www.mountainproject.com/sitemap-routes-33.xml', 'https://www.mountainproject.com/sitemap-routes-34.xml', 'https://www.mountainproject.com/sitemap-routes-35.xml', 'https://www.mountainproject.com/sitemap-routes-36.xml', 'https://www.mountainproject.com/sitemap-routes-37.xml', 'https://www.mountainproject.com/sitemap-routes-38.xml', 'https://www.mountainproject.com/sitemap-routes-39.xml', 'https://www.mountainproject.com/sitemap-routes-40.xml', 'https://www.mountainproject.com/sitemap-routes-41.xml', 'https://www.mountainproject.com/sitemap-routes-42.xml', 'https://www.mountainproject.com/sitemap-routes-43.xml', 'https://www.mountainproject.com/sitemap-routes-44.xml', 'https://www.mountainproject.com/sitemap-routes-45.xml', 'https://www.mountainproject.com/sitemap-routes-46.xml', 'https://www.mountainproject.com/sitemap-routes-47.xml', 'https://www.mountainproject.com/sitemap-routes-48.xml', 'https://www.mountainproject.com/sitemap-routes-49.xml', 'https://www.mountainproject.com/sitemap-routes-50.xml', 'https://www.mountainproject.com/sitemap-routes-51.xml', 'https://www.mountainproject.com/sitemap-routes-52.xml', 'https://www.mountainproject.com/sitemap-routes-53.xml', 'https://www.mountainproject.com/sitemap-routes-54.xml', 'https://www.mountainproject.com/sitemap-routes-55.xml', 'https://www.mountainproject.com/sitemap-routes-56.xml', 'https://www.mountainproject.com/sitemap-routes-57.xml', 'https://www.mountainproject.com/sitemap-routes-58.xml', 'https://www.mountainproject.com/sitemap-routes-59.xml', 'https://www.mountainproject.com/sitemap-routes-60.xml', 'https://www.mountainproject.com/sitemap-routes-61.xml', 'https://www.mountainproject.com/sitemap-routes-62.xml', 'https://www.mountainproject.com/sitemap-routes-63.xml', 'https://www.mountainproject.com/sitemap-routes-64.xml', 'https://www.mountainproject.com/sitemap-routes-65.xml', 'https://www.mountainproject.com/sitemap-routes-66.xml', 'https://www.mountainproject.com/sitemap-routes-67.xml', 'https://www.mountainproject.com/sitemap-routes-68.xml', 'https://www.mountainproject.com/sitemap-routes-69.xml', 'https://www.mountainproject.com/sitemap-routes-70.xml', 'https://www.mountainproject.com/sitemap-routes-71.xml', 'https://www.mountainproject.com/sitemap-routes-72.xml', 'https://www.mountainproject.com/sitemap-routes-73.xml', 'https://www.mountainproject.com/sitemap-routes-74.xml', 'https://www.mountainproject.com/sitemap-routes-75.xml', 'https://www.mountainproject.com/sitemap-routes-76.xml', 'https://www.mountainproject.com/sitemap-routes-77.xml', 'https://www.mountainproject.com/sitemap-routes-78.xml', 'https://www.mountainproject.com/sitemap-routes-79.xml', 'https://www.mountainproject.com/sitemap-routes-80.xml', 'https://www.mountainproject.com/sitemap-routes-81.xml', 'https://www.mountainproject.com/sitemap-routes-82.xml', 'https://www.mountainproject.com/sitemap-routes-83.xml', 'https://www.mountainproject.com/sitemap-routes-84.xml', 'https://www.mountainproject.com/sitemap-routes-85.xml', 'https://www.mountainproject.com/sitemap-routes-86.xml', 'https://www.mountainproject.com/sitemap-routes-87.xml', 'https://www.mountainproject.com/sitemap-routes-88.xml', 'https://www.mountainproject.com/sitemap-routes-89.xml', 'https://www.mountainproject.com/sitemap-routes-90.xml', 'https://www.mountainproject.com/sitemap-routes-91.xml', 'https://www.mountainproject.com/sitemap-routes-92.xml', 'https://www.mountainproject.com/sitemap-routes-93.xml', 'https://www.mountainproject.com/sitemap-routes-94.xml', 'https://www.mountainproject.com/sitemap-routes-95.xml', 'https://www.mountainproject.com/sitemap-routes-96.xml', 'https://www.mountainproject.com/sitemap-routes-97.xml', 'https://www.mountainproject.com/sitemap-routes-98.xml', 'https://www.mountainproject.com/sitemap-routes-99.xml', 'https://www.mountainproject.com/sitemap-routes-100.xml', 'https://www.mountainproject.com/sitemap-routes-101.xml', 'https://www.mountainproject.com/sitemap-routes-102.xml', 'https://www.mountainproject.com/sitemap-routes-103.xml', 'https://www.mountainproject.com/sitemap-routes-104.xml', 'https://www.mountainproject.com/sitemap-routes-105.xml', 'https://www.mountainproject.com/sitemap-routes-106.xml', 'https://www.mountainproject.com/sitemap-routes-107.xml', 'https://www.mountainproject.com/sitemap-routes-108.xml', 'https://www.mountainproject.com/sitemap-routes-109.xml', 'https://www.mountainproject.com/sitemap-routes-110.xml', 'https://www.mountainproject.com/sitemap-routes-111.xml', 'https://www.mountainproject.com/sitemap-routes-112.xml', 'https://www.mountainproject.com/sitemap-routes-113.xml', 'https://www.mountainproject.com/sitemap-routes-114.xml', 'https://www.mountainproject.com/sitemap-routes-115.xml', 'https://www.mountainproject.com/sitemap-routes-116.xml', 'https://www.mountainproject.com/sitemap-routes-117.xml', 'https://www.mountainproject.com/sitemap-routes-118.xml', 'https://www.mountainproject.com/sitemap-routes-119.xml', 'https://www.mountainproject.com/sitemap-routes-120.xml', 'https://www.mountainproject.com/sitemap-routes-121.xml', 'https://www.mountainproject.com/sitemap-routes-122.xml', 'https://www.mountainproject.com/sitemap-routes-123.xml', 'https://www.mountainproject.com/sitemap-routes-124.xml', 'https://www.mountainproject.com/sitemap-routes-125.xml', 'https://www.mountainproject.com/sitemap-routes-126.xml', 'https://www.mountainproject.com/sitemap-routes-127.xml', 'https://www.mountainproject.com/sitemap-routes-128.xml', 'https://www.mountainproject.com/sitemap-routes-129.xml', 'https://www.mountainproject.com/sitemap-routes-130.xml', 'https://www.mountainproject.com/sitemap-routes-131.xml', 'https://www.mountainproject.com/sitemap-routes-132.xml', 'https://www.mountainproject.com/sitemap-routes-133.xml', 'https://www.mountainproject.com/sitemap-routes-134.xml', 'https://www.mountainproject.com/sitemap-routes-135.xml', 'https://www.mountainproject.com/sitemap-routes-136.xml', 'https://www.mountainproject.com/sitemap-routes-137.xml', 'https://www.mountainproject.com/sitemap-routes-138.xml', 'https://www.mountainproject.com/sitemap-routes-139.xml', 'https://www.mountainproject.com/sitemap-routes-140.xml', 'https://www.mountainproject.com/sitemap-routes-141.xml', 'https://www.mountainproject.com/sitemap-routes-142.xml', 'https://www.mountainproject.com/sitemap-routes-143.xml', 'https://www.mountainproject.com/sitemap-routes-144.xml', 'https://www.mountainproject.com/sitemap-routes-145.xml', 'https://www.mountainproject.com/sitemap-routes-146.xml', 'https://www.mountainproject.com/sitemap-routes-147.xml', 'https://www.mountainproject.com/sitemap-routes-148.xml', 'https://www.mountainproject.com/sitemap-routes-149.xml', 'https://www.mountainproject.com/sitemap-routes-150.xml', 'https://www.mountainproject.com/sitemap-routes-151.xml', 'https://www.mountainproject.com/sitemap-routes-152.xml', 'https://www.mountainproject.com/sitemap-routes-153.xml', 'https://www.mountainproject.com/sitemap-routes-154.xml', 'https://www.mountainproject.com/sitemap-routes-155.xml', 'https://www.mountainproject.com/sitemap-routes-156.xml', 'https://www.mountainproject.com/sitemap-routes-157.xml', 'https://www.mountainproject.com/sitemap-routes-158.xml', 'https://www.mountainproject.com/sitemap-routes-159.xml', 'https://www.mountainproject.com/sitemap-routes-160.xml', 'https://www.mountainproject.com/sitemap-routes-161.xml', 'https://www.mountainproject.com/sitemap-routes-162.xml', 'https://www.mountainproject.com/sitemap-routes-163.xml', 'https://www.mountainproject.com/sitemap-routes-164.xml', 'https://www.mountainproject.com/sitemap-routes-165.xml', 'https://www.mountainproject.com/sitemap-routes-166.xml', 'https://www.mountainproject.com/sitemap-routes-167.xml', 'https://www.mountainproject.com/sitemap-routes-168.xml', 'https://www.mountainproject.com/sitemap-routes-169.xml', 'https://www.mountainproject.com/sitemap-routes-170.xml', 'https://www.mountainproject.com/sitemap-routes-171.xml', 'https://www.mountainproject.com/sitemap-routes-172.xml', 'https://www.mountainproject.com/sitemap-routes-173.xml', 'https://www.mountainproject.com/sitemap-routes-174.xml', 'https://www.mountainproject.com/sitemap-routes-175.xml', 'https://www.mountainproject.com/sitemap-routes-176.xml', 'https://www.mountainproject.com/sitemap-routes-177.xml', 'https://www.mountainproject.com/sitemap-routes-178.xml', 'https://www.mountainproject.com/sitemap-routes-179.xml', 'https://www.mountainproject.com/sitemap-routes-180.xml', 'https://www.mountainproject.com/sitemap-routes-181.xml', 'https://www.mountainproject.com/sitemap-routes-182.xml', 'https://www.mountainproject.com/sitemap-routes-183.xml', 'https://www.mountainproject.com/sitemap-routes-184.xml', 'https://www.mountainproject.com/sitemap-routes-185.xml', 'https://www.mountainproject.com/sitemap-routes-186.xml', 'https://www.mountainproject.com/sitemap-routes-187.xml', 'https://www.mountainproject.com/sitemap-routes-188.xml', 'https://www.mountainproject.com/sitemap-routes-189.xml', 'https://www.mountainproject.com/sitemap-routes-190.xml', 'https://www.mountainproject.com/sitemap-routes-191.xml', 'https://www.mountainproject.com/sitemap-routes-192.xml', 'https://www.mountainproject.com/sitemap-routes-193.xml', 'https://www.mountainproject.com/sitemap-routes-194.xml', 'https://www.mountainproject.com/sitemap-routes-195.xml', 'https://www.mountainproject.com/sitemap-routes-196.xml', 'https://www.mountainproject.com/sitemap-routes-197.xml', 'https://www.mountainproject.com/sitemap-routes-198.xml', 'https://www.mountainproject.com/sitemap-routes-199.xml', 'https://www.mountainproject.com/sitemap-routes-200.xml', 'https://www.mountainproject.com/sitemap-routes-201.xml', 'https://www.mountainproject.com/sitemap-routes-202.xml', 'https://www.mountainproject.com/sitemap-routes-203.xml', 'https://www.mountainproject.com/sitemap-routes-204.xml', 'https://www.mountainproject.com/sitemap-routes-205.xml', 'https://www.mountainproject.com/sitemap-routes-206.xml', 'https://www.mountainproject.com/sitemap-routes-207.xml', 'https://www.mountainproject.com/sitemap-routes-208.xml', 'https://www.mountainproject.com/sitemap-routes-209.xml', 'https://www.mountainproject.com/sitemap-routes-210.xml', 'https://www.mountainproject.com/sitemap-routes-211.xml', 'https://www.mountainproject.com/sitemap-routes-212.xml', 'https://www.mountainproject.com/sitemap-routes-213.xml', 'https://www.mountainproject.com/sitemap-routes-214.xml', 'https://www.mountainproject.com/sitemap-routes-215.xml', 'https://www.mountainproject.com/sitemap-routes-216.xml', 'https://www.mountainproject.com/sitemap-routes-217.xml', 'https://www.mountainproject.com/sitemap-routes-218.xml', 'https://www.mountainproject.com/sitemap-routes-219.xml', 'https://www.mountainproject.com/sitemap-routes-220.xml', 'https://www.mountainproject.com/sitemap-routes-221.xml', 'https://www.mountainproject.com/sitemap-routes-222.xml', 'https://www.mountainproject.com/sitemap-routes-223.xml', 'https://www.mountainproject.com/sitemap-routes-224.xml', 'https://www.mountainproject.com/sitemap-routes-225.xml', 'https://www.mountainproject.com/sitemap-routes-226.xml', 'https://www.mountainproject.com/sitemap-routes-227.xml', 'https://www.mountainproject.com/sitemap-routes-228.xml', 'https://www.mountainproject.com/sitemap-routes-229.xml', 'https://www.mountainproject.com/sitemap-routes-230.xml', 'https://www.mountainproject.com/sitemap-routes-231.xml', 'https://www.mountainproject.com/sitemap-routes-232.xml', 'https://www.mountainproject.com/sitemap-routes-233.xml', 'https://www.mountainproject.com/sitemap-routes-234.xml', 'https://www.mountainproject.com/sitemap-routes-235.xml', 'https://www.mountainproject.com/sitemap-routes-236.xml', 'https://www.mountainproject.com/sitemap-routes-237.xml', 'https://www.mountainproject.com/sitemap-routes-238.xml', 'https://www.mountainproject.com/sitemap-routes-239.xml', 'https://www.mountainproject.com/sitemap-routes-240.xml', 'https://www.mountainproject.com/sitemap-routes-241.xml', 'https://www.mountainproject.com/sitemap-routes-242.xml', 'https://www.mountainproject.com/sitemap-routes-243.xml', 'https://www.mountainproject.com/sitemap-routes-244.xml', 'https://www.mountainproject.com/sitemap-routes-245.xml', 'https://www.mountainproject.com/sitemap-routes-246.xml', 'https://www.mountainproject.com/sitemap-routes-247.xml', 'https://www.mountainproject.com/sitemap-routes-248.xml', 'https://www.mountainproject.com/sitemap-routes-249.xml', 'https://www.mountainproject.com/sitemap-routes-250.xml', 'https://www.mountainproject.com/sitemap-routes-251.xml', 'https://www.mountainproject.com/sitemap-routes-252.xml', 'https://www.mountainproject.com/sitemap-routes-253.xml', 'https://www.mountainproject.com/sitemap-routes-254.xml', 'https://www.mountainproject.com/sitemap-routes-255.xml', 'https://www.mountainproject.com/sitemap-routes-256.xml', 'https://www.mountainproject.com/sitemap-routes-257.xml', 'https://www.mountainproject.com/sitemap-routes-258.xml', 'https://www.mountainproject.com/sitemap-routes-259.xml', 'https://www.mountainproject.com/sitemap-routes-260.xml', 'https://www.mountainproject.com/sitemap-routes-261.xml', 'https://www.mountainproject.com/sitemap-routes-262.xml', 'https://www.mountainproject.com/sitemap-routes-263.xml', 'https://www.mountainproject.com/sitemap-routes-264.xml', 'https://www.mountainproject.com/sitemap-routes-265.xml', 'https://www.mountainproject.com/sitemap-routes-266.xml', 'https://www.mountainproject.com/sitemap-routes-267.xml', 'https://www.mountainproject.com/sitemap-routes-268.xml', 'https://www.mountainproject.com/sitemap-routes-269.xml', 'https://www.mountainproject.com/sitemap-routes-270.xml', 'https://www.mountainproject.com/sitemap-routes-271.xml', 'https://www.mountainproject.com/sitemap-routes-272.xml', 'https://www.mountainproject.com/sitemap-routes-273.xml', 'https://www.mountainproject.com/sitemap-routes-274.xml', 'https://www.mountainproject.com/sitemap-routes-275.xml', 'https://www.mountainproject.com/sitemap-routes-276.xml', 'https://www.mountainproject.com/sitemap-routes-277.xml', 'https://www.mountainproject.com/sitemap-routes-278.xml', 'https://www.mountainproject.com/sitemap-routes-279.xml', 'https://www.mountainproject.com/sitemap-routes-280.xml', 'https://www.mountainproject.com/sitemap-routes-281.xml', 'https://www.mountainproject.com/sitemap-routes-282.xml', 'https://www.mountainproject.com/sitemap-routes-283.xml', 'https://www.mountainproject.com/sitemap-routes-284.xml', 'https://www.mountainproject.com/sitemap-routes-285.xml', 'https://www.mountainproject.com/sitemap-routes-286.xml', 'https://www.mountainproject.com/sitemap-routes-287.xml', 'https://www.mountainproject.com/sitemap-routes-288.xml', 'https://www.mountainproject.com/sitemap-routes-289.xml', 'https://www.mountainproject.com/sitemap-routes-290.xml', 'https://www.mountainproject.com/sitemap-routes-291.xml', 'https://www.mountainproject.com/sitemap-routes-292.xml', 'https://www.mountainproject.com/sitemap-routes-293.xml', 'https://www.mountainproject.com/sitemap-routes-294.xml', 'https://www.mountainproject.com/sitemap-routes-295.xml', 'https://www.mountainproject.com/sitemap-routes-296.xml', 'https://www.mountainproject.com/sitemap-routes-297.xml', 'https://www.mountainproject.com/sitemap-routes-298.xml', 'https://www.mountainproject.com/sitemap-routes-299.xml', 'https://www.mountainproject.com/sitemap-routes-300.xml', 'https://www.mountainproject.com/sitemap-routes-301.xml', 'https://www.mountainproject.com/sitemap-routes-302.xml', 'https://www.mountainproject.com/sitemap-routes-303.xml', 'https://www.mountainproject.com/sitemap-routes-304.xml', 'https://www.mountainproject.com/sitemap-routes-305.xml', 'https://www.mountainproject.com/sitemap-routes-306.xml', 'https://www.mountainproject.com/sitemap-routes-307.xml', 'https://www.mountainproject.com/sitemap-routes-308.xml', 'https://www.mountainproject.com/sitemap-routes-309.xml', 'https://www.mountainproject.com/sitemap-routes-310.xml', 'https://www.mountainproject.com/sitemap-routes-311.xml', 'https://www.mountainproject.com/sitemap-routes-312.xml', 'https://www.mountainproject.com/sitemap-routes-313.xml', 'https://www.mountainproject.com/sitemap-routes-314.xml', 'https://www.mountainproject.com/sitemap-routes-315.xml', 'https://www.mountainproject.com/sitemap-routes-316.xml', 'https://www.mountainproject.com/sitemap-routes-317.xml', 'https://www.mountainproject.com/sitemap-routes-318.xml', 'https://www.mountainproject.com/sitemap-routes-319.xml']\n"
     ]
    }
   ],
   "source": [
    "def route_pages_generator(sitemap_text: str):\n",
    "    route_page_pat = re.compile(r'<loc>(.*mountainproject.com/sitemap-routes-\\d+\\.xml)</loc>')\n",
    "    pages = route_page_pat.findall(sitemap_text)\n",
    "    yield from pages\n",
    "\n",
    "def routes_generator\n",
    "\n",
    "\n",
    "route_pages_generator(get_sitemap())\n"
   ]
  }
 ],
 "metadata": {
  "kernelspec": {
   "display_name": "env",
   "language": "python",
   "name": "python3"
  },
  "language_info": {
   "codemirror_mode": {
    "name": "ipython",
    "version": 3
   },
   "file_extension": ".py",
   "mimetype": "text/x-python",
   "name": "python",
   "nbconvert_exporter": "python",
   "pygments_lexer": "ipython3",
   "version": "3.11.4"
  }
 },
 "nbformat": 4,
 "nbformat_minor": 2
}
